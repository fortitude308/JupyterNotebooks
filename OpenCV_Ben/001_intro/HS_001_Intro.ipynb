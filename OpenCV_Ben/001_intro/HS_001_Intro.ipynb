{
 "cells": [
  {
   "cell_type": "code",
   "execution_count": 1,
   "id": "7983be95-b3f6-459d-8b1e-dbb0299a0cd2",
   "metadata": {
    "tags": []
   },
   "outputs": [],
   "source": [
    "import cv2 as cv\n",
    "import numpy as np\n",
    "import os"
   ]
  },
  {
   "cell_type": "code",
   "execution_count": 6,
   "id": "7dc17986-b3e1-4fd3-a92b-8a4f4e39d0ba",
   "metadata": {
    "tags": []
   },
   "outputs": [],
   "source": [
    "# Change the working directory to the folder this script is in.\n",
    "# Doing this because I'll be putting the files from each video in their own folder on GitHub\n",
    "\n",
    "# os.chdir(os.path.dirname(os.path.abspath(__file__)))\n",
    "# Ben原本的abspath沒有''不能用，不確定在spyder裡面的狀態\n",
    "\n",
    "os.chdir(os.path.dirname(os.path.abspath('__file__')))"
   ]
  },
  {
   "cell_type": "code",
   "execution_count": 7,
   "id": "9630bab9-9bff-4295-9e1f-f6b473af4842",
   "metadata": {
    "tags": []
   },
   "outputs": [],
   "source": [
    "# Can use IMREAD flags to do different pre-processing of image files,\n",
    "# like making them grayscale or reducing the size.\n",
    "# https://docs.opencv.org/4.2.0/d4/da8/group__imgcodecs.html\n",
    "\n",
    "haystack_img = cv.imread('albion_farm.jpg', cv.IMREAD_UNCHANGED)\n",
    "needle_img = cv.imread('albion_cabbage.jpg', cv.IMREAD_UNCHANGED)"
   ]
  },
  {
   "cell_type": "code",
   "execution_count": 8,
   "id": "eb0c77c0-ce67-4b0e-8c0a-3cd804de09fc",
   "metadata": {
    "tags": []
   },
   "outputs": [],
   "source": [
    "# There are 6 comparison methods to choose from:\n",
    "# TM_CCOEFF, TM_CCOEFF_NORMED, TM_CCORR, TM_CCORR_NORMED, TM_SQDIFF, TM_SQDIFF_NORMED\n",
    "# You can see the differences at a glance here:\n",
    "# https://docs.opencv.org/master/d4/dc6/tutorial_py_template_matching.html\n",
    "# Note that the values are inverted for TM_SQDIFF and TM_SQDIFF_NORMED\n",
    "result = cv.matchTemplate(haystack_img, needle_img, cv.TM_CCOEFF_NORMED)\n",
    "\n",
    "# You can view the result of matchTemplate() like this:\n",
    "#cv.imshow('Result', result)\n",
    "#cv.waitKey()\n",
    "# If you want to save this result to a file, you'll need to normalize the result array\n",
    "# from 0..1 to 0..255, see:\n",
    "# https://stackoverflow.com/questions/35719480/opencv-black-image-after-matchtemplate\n",
    "#cv.imwrite('result_CCOEFF_NORMED.jpg', result * 255)"
   ]
  },
  {
   "cell_type": "code",
   "execution_count": 9,
   "id": "a10dc81e-9425-43e8-b180-4bdd8e04d2de",
   "metadata": {
    "tags": []
   },
   "outputs": [
    {
     "name": "stdout",
     "output_type": "stream",
     "text": [
      "Best match top left position: (514, 483)\n",
      "Best match confidence: 0.9803802967071533\n"
     ]
    }
   ],
   "source": [
    "# Get the best match position from the match result.\n",
    "min_val, max_val, min_loc, max_loc = cv.minMaxLoc(result)\n",
    "# The max location will contain the upper left corner pixel position for the area\n",
    "# that most closely matches our needle image. The max value gives an indication\n",
    "# of how similar that find is to the original needle, where 1 is perfect and -1\n",
    "# is exact opposite.\n",
    "print('Best match top left position: %s' % str(max_loc))\n",
    "print('Best match confidence: %s' % max_val)"
   ]
  },
  {
   "cell_type": "code",
   "execution_count": 11,
   "id": "dadd82f5-1036-454a-bf0f-29b0b31b2b70",
   "metadata": {
    "tags": []
   },
   "outputs": [
    {
     "name": "stdout",
     "output_type": "stream",
     "text": [
      "Found needle.\n"
     ]
    }
   ],
   "source": [
    "# If the best match value is greater than 0.8, we'll trust that we found a match\n",
    "threshold = 0.8\n",
    "if max_val >= threshold:\n",
    "    print('Found needle.')\n",
    "\n",
    "    # Get the size of the needle image. With OpenCV images, you can get the dimensions \n",
    "    # via the shape property. It returns a tuple of the number of rows, columns, and \n",
    "    # channels (if the image is color):\n",
    "    needle_w = needle_img.shape[1]\n",
    "    needle_h = needle_img.shape[0]\n",
    "\n",
    "    # Calculate the bottom right corner of the rectangle to draw\n",
    "    top_left = max_loc\n",
    "    bottom_right = (top_left[0] + needle_w, top_left[1] + needle_h)\n",
    "\n",
    "    # Draw a rectangle on our screenshot to highlight where we found the needle.\n",
    "    # The line color can be set as an RGB tuple\n",
    "    cv.rectangle(haystack_img, top_left, bottom_right, \n",
    "                    color=(0, 255, 0), thickness=2, lineType=cv.LINE_4)\n",
    "\n",
    "    # You can view the processed screenshot like this:\n",
    "    #cv.imshow('Result', haystack_img)\n",
    "    #cv.waitKey()\n",
    "    # Or you can save the results to a file.\n",
    "    # imwrite() will smartly format our output image based on the extension we give it\n",
    "    # https://docs.opencv.org/3.4/d4/da8/group__imgcodecs.html#gabbc7ef1aa2edfaa87772f1202d67e0ce\n",
    "    cv.imwrite('result.jpg', haystack_img)\n",
    "\n",
    "else:\n",
    "    print('Needle not found.')"
   ]
  },
  {
   "cell_type": "code",
   "execution_count": null,
   "id": "25e22ad7-0878-43e3-b116-310240375e77",
   "metadata": {},
   "outputs": [],
   "source": []
  }
 ],
 "metadata": {
  "kernelspec": {
   "display_name": "Python 3 (ipykernel)",
   "language": "python",
   "name": "python3"
  },
  "language_info": {
   "codemirror_mode": {
    "name": "ipython",
    "version": 3
   },
   "file_extension": ".py",
   "mimetype": "text/x-python",
   "name": "python",
   "nbconvert_exporter": "python",
   "pygments_lexer": "ipython3",
   "version": "3.11.3"
  }
 },
 "nbformat": 4,
 "nbformat_minor": 5
}
