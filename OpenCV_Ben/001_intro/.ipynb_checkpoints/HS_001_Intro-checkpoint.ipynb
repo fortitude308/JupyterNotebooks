{
 "cells": [
  {
   "cell_type": "code",
   "execution_count": 1,
   "id": "7983be95-b3f6-459d-8b1e-dbb0299a0cd2",
   "metadata": {
    "tags": []
   },
   "outputs": [],
   "source": [
    "import cv2 as cv\n",
    "import numpy as np\n",
    "import os"
   ]
  },
  {
   "cell_type": "code",
   "execution_count": 6,
   "id": "7dc17986-b3e1-4fd3-a92b-8a4f4e39d0ba",
   "metadata": {
    "tags": []
   },
   "outputs": [],
   "source": [
    "# Change the working directory to the folder this script is in.\n",
    "# Doing this because I'll be putting the files from each video in their own folder on GitHub\n",
    "\n",
    "# os.chdir(os.path.dirname(os.path.abspath(__file__)))\n",
    "# Ben原本的abspath沒有''不能用，不確定在spyder裡面的狀態\n",
    "\n",
    "os.chdir(os.path.dirname(os.path.abspath('__file__')))"
   ]
  },
  {
   "cell_type": "code",
   "execution_count": 7,
   "id": "9630bab9-9bff-4295-9e1f-f6b473af4842",
   "metadata": {
    "tags": []
   },
   "outputs": [],
   "source": [
    "# Can use IMREAD flags to do different pre-processing of image files,\n",
    "# like making them grayscale or reducing the size.\n",
    "# https://docs.opencv.org/4.2.0/d4/da8/group__imgcodecs.html\n",
    "\n",
    "haystack_img = cv.imread('albion_farm.jpg', cv.IMREAD_UNCHANGED)\n",
    "needle_img = cv.imread('albion_cabbage.jpg', cv.IMREAD_UNCHANGED)"
   ]
  },
  {
   "cell_type": "code",
   "execution_count": 8,
   "id": "eb0c77c0-ce67-4b0e-8c0a-3cd804de09fc",
   "metadata": {
    "tags": []
   },
   "outputs": [],
   "source": [
    "# There are 6 comparison methods to choose from:\n",
    "# TM_CCOEFF, TM_CCOEFF_NORMED, TM_CCORR, TM_CCORR_NORMED, TM_SQDIFF, TM_SQDIFF_NORMED\n",
    "# You can see the differences at a glance here:\n",
    "# https://docs.opencv.org/master/d4/dc6/tutorial_py_template_matching.html\n",
    "# Note that the values are inverted for TM_SQDIFF and TM_SQDIFF_NORMED\n",
    "result = cv.matchTemplate(haystack_img, needle_img, cv.TM_CCOEFF_NORMED)\n",
    "\n",
    "# You can view the result of matchTemplate() like this:\n",
    "#cv.imshow('Result', result)\n",
    "#cv.waitKey()\n",
    "# If you want to save this result to a file, you'll need to normalize the result array\n",
    "# from 0..1 to 0..255, see:\n",
    "# https://stackoverflow.com/questions/35719480/opencv-black-image-after-matchtemplate\n",
    "#cv.imwrite('result_CCOEFF_NORMED.jpg', result * 255)"
   ]
  }
 ],
 "metadata": {
  "kernelspec": {
   "display_name": "Python 3 (ipykernel)",
   "language": "python",
   "name": "python3"
  },
  "language_info": {
   "codemirror_mode": {
    "name": "ipython",
    "version": 3
   },
   "file_extension": ".py",
   "mimetype": "text/x-python",
   "name": "python",
   "nbconvert_exporter": "python",
   "pygments_lexer": "ipython3",
   "version": "3.11.3"
  }
 },
 "nbformat": 4,
 "nbformat_minor": 5
}
