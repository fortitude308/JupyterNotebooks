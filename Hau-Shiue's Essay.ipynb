{
 "cells": [
  {
   "cell_type": "markdown",
   "id": "40332f80",
   "metadata": {},
   "source": [
    "曾和一位好友聊到一些工程相關的問題和解決方式，我以學過的控制知識提出一些想法，與他聊得很開心，但每當人問我控制是做什麼，或是說我學過什麼、能作何用時，我沒辦法馬上給出答案，也常碰上沒辦法說服自己的情況，因此想做個筆記，記錄我學過的東西、有趣的題目、遇過的問題、解決的方式。\n",
    "\n",
    "在編排文件的過程中，對於一些從課本上獲取來的知識，原本我想按照書上的編排順序進行撰寫，但是發現這樣做對我來說不夠直覺，或是說難以理解，沒辦法在\"為什麼需要這個? 為什麼要這樣做?\"的自問自答中說服自己，因此我想嘗試用自己的邏輯來梳理這些知識，讓自己能流暢的思考。"
   ]
  },
  {
   "cell_type": "markdown",
   "id": "d40d0d17",
   "metadata": {},
   "source": [
    "## Table of Contents\n",
    "* [Chapter 1](#chapter1)\n",
    "    * [Section 1.1](#section_1_1)\n",
    "        * [Sub Section 1.1.1](#sub_section_1_1_1)\n",
    "* [Chapter 2](#chapter2)\n",
    "    * [Section 2.1](#section_2_1)\n",
    "        * [Sub Section 2.1.1](#sub_section_2_1_1)\n",
    "        * [Sub Section 2.1.2](#sub_section_2_1_2)\n",
    "    * [Section 2.2](#section_2_2)\n",
    "        * [Sub Section 2.2.1](#sub_section_2_2_1)\n",
    "        * [Sub Section 2.2.2](#sub_section_2_2_2)\n",
    "* [Appendix](#Appendix1)\n",
    "    * [Appendix 1](#appendix_1)"
   ]
  },
  {
   "cell_type": "markdown",
   "id": "045151b4",
   "metadata": {},
   "source": [
    "## Chapter 1 <a class=\"anchor\" id=\"chapter1\"></a>\n",
    "This is chapter number 1\n",
    "### Section 1.1 <a class=\"anchor\" id=\"section_1_1\"></a>\n",
    "This is section 1.1\n",
    "##### Section 1.1.1 <a class=\"anchor\" id=\"sub_section_1_1_1\"></a>\n",
    "This is sub section 1.1.1\n",
    "## Chapter 2 <a class=\"anchor\" id=\"chapter2\"></a>\n",
    "This is chapter number 2\n",
    "### Section 2.1 <a class=\"anchor\" id=\"section_2_1\"></a>\n",
    "This is section 2.1\n",
    "#### Section 2.1.1 <a class=\"anchor\" id=\"sub_section_2_1_1\"></a>\n",
    "This is sub section 2.1.1\n",
    "#### Section 2.1.2 <a class=\"anchor\" id=\"sub_section_2_1_2\"></a>\n",
    "This is sub section 2.1.2\n",
    "### Section 2.2 <a class=\"anchor\" id=\"section_2_2\"></a>\n",
    "This is section 2.2\n",
    "#### Section 2.2.1 <a class=\"anchor\" id=\"sub_section_2_2_1\"></a>\n",
    "This is sub section 2.2.1\n",
    "#### Section 2.2.2 <a class=\"anchor\" id=\"sub_section_2_2_2\"></a>\n",
    "This is sub section 2.2.2"
   ]
  },
  {
   "cell_type": "markdown",
   "id": "05dc4684",
   "metadata": {},
   "source": [
    "## Appendix <a class=\"anchor\" id=\"Appendix\"></a>\n",
    "\n",
    "### Appendix 1 <a class=\"anchor\" id=\"appendix_1\"></a>\n",
    "紀錄一些有用的網站資料\n",
    "* Jupyter Notebook Official Documentation: https://jupyter-notebook.readthedocs.io/en/stable/index.html\n",
    "* How to Add a Table of Contents in the Jupyter Notebook: https://linuxhint.com/add-table-contents-jupyter-notebook/  \n",
    "* 如何更換 Jupyter Notebook 預設專案路徑: https://tech.havocfuture.tw/blog/change-jupyter-notebook-path\n",
    "* 代码神器jupyter的文字排版技巧（一）: https://zhuanlan.zhihu.com/p/90795879"
   ]
  }
 ],
 "metadata": {
  "kernelspec": {
   "display_name": "Python 3 (ipykernel)",
   "language": "python",
   "name": "python3"
  },
  "language_info": {
   "codemirror_mode": {
    "name": "ipython",
    "version": 3
   },
   "file_extension": ".py",
   "mimetype": "text/x-python",
   "name": "python",
   "nbconvert_exporter": "python",
   "pygments_lexer": "ipython3",
   "version": "3.11.3"
  }
 },
 "nbformat": 4,
 "nbformat_minor": 5
}
