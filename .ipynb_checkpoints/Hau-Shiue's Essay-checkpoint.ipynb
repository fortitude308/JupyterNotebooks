{
 "cells": [
  {
   "cell_type": "markdown",
   "id": "93137f9b",
   "metadata": {},
   "source": [
    "我曾和一位好友聊到一些工程相關的問題和解決方式，我以學過的控制知識提出一些想法，與他聊得很開心，但每當人問我控制是做什麼? 或是說我學過什麼、能作何用時，我一時之間就沒辦法整理思緒與答覆，或是有時會碰上連自己都沒辦法說服自己的情況，因此想做個筆記，記錄我學過的東西、有趣的題目、遇過的問題、解決的方式。"
   ]
  },
  {
   "cell_type": "code",
   "execution_count": null,
   "id": "f5bfc969",
   "metadata": {},
   "outputs": [],
   "source": []
  },
  {
   "cell_type": "code",
   "execution_count": null,
   "id": "f955e3fa",
   "metadata": {},
   "outputs": [],
   "source": []
  }
 ],
 "metadata": {
  "kernelspec": {
   "display_name": "Python 3 (ipykernel)",
   "language": "python",
   "name": "python3"
  },
  "language_info": {
   "codemirror_mode": {
    "name": "ipython",
    "version": 3
   },
   "file_extension": ".py",
   "mimetype": "text/x-python",
   "name": "python",
   "nbconvert_exporter": "python",
   "pygments_lexer": "ipython3",
   "version": "3.9.12"
  }
 },
 "nbformat": 4,
 "nbformat_minor": 5
}
